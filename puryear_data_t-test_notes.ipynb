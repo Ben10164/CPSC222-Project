{
 "cells": [
  {
   "cell_type": "markdown",
   "metadata": {},
   "source": [
    "### What is a t-test?\n",
    "* A t-test is a statistical way to determine if two or more datasets are related to each other in some way\n",
    "### Why are we doing a t-test?\n",
    "* We are using a t-test in order to see if there is a coorelation between the values of the headphone usage, the amount i sleep, and the movement data\n",
    "### How do you do a t-test?\n",
    "* A common way is by using the hypothesis based method\n",
    "\n",
    "Below you will see Dr. Sprints \"5 Step Hypothesis Testing Approach\"\n",
    "## 5 Step Hypothesis Testing Approach\n",
    "1. State null and alternative hypothesis\n",
    "2. State the level of significance\n",
    "3. Select the appropriate test statistic\n",
    "4. Formulate the decision rule\n",
    "5. Make a decision\n",
    "\n",
    "# Question:\n",
    "The subject has exported his iPhones movement data, as well as his sleep and headphone volume data. Using a level of significance of 0.05, is there any coorelation between the three datasets? If so, which?\n",
    "\n",
    "### Hypithesis\n",
    "\n",
    "* $H_0: \\mu  = $\n",
    "* We will be using a two-tailed test, because the alternative hypothesis does not have any direction. It just states that there is a difference in trend between the different datasets.\n",
    "\n",
    "\n",
    "\n",
    "### 1. State Null and Alternative Hypothesis\n",
    "Null Hypothesis ($H_0$): A tentative **assumption** made about a population parameter, set up in a way to accept or reject it.\n",
    "* $H_0$ has always the equal sign\n",
    "    * E.g. $H_0: \\mu \\geq 20$\n",
    "    * E.g. $H_0: \\mu \\leq 20$\n",
    "* We cannot say that $H_0$ is true, only that we accept it or reject it (false)\n",
    "\n",
    "Alternative Hypothesis ($H_1$): A statement that will be accepted **if** the Null Hypothesis is false (or rejected)\n",
    "\n",
    "To help formulate your null and alternative hypothesis, ask if there is there a direction given?\n",
    "* One-tailed test: when the alternative hypothesis ($H_1$) states a direction\n",
    "    * Left tail: e.g. $H_1: \\mu < 20$\n",
    "    * Right tail: e.g. $H_1: \\mu > 20$\n",
    "* Two-tailed test: when the alternative hypothesis ($H_1$) does not state a direction\n",
    "    * E.g. $H_1: \\mu \\neq 20$\n",
    "\n"
   ]
  }
 ],
 "metadata": {
  "language_info": {
   "name": "python"
  },
  "orig_nbformat": 4
 },
 "nbformat": 4,
 "nbformat_minor": 2
}
