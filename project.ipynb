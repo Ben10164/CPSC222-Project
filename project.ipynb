{
 "cells": [
  {
   "cell_type": "markdown",
   "metadata": {},
   "source": [
    "# No comments / code are final"
   ]
  },
  {
   "cell_type": "code",
   "execution_count": null,
   "metadata": {},
   "outputs": [],
   "source": [
    "import matplotlib.pyplot as plt\n",
    "import numpy as np\n",
    "import pandas as pd\n",
    "import scipy.stats as stats\n",
    "import math"
   ]
  },
  {
   "cell_type": "markdown",
   "metadata": {},
   "source": [
    "# Data Cleaning"
   ]
  },
  {
   "cell_type": "markdown",
   "metadata": {},
   "source": [
    "## Movement\n",
    "This is very easy"
   ]
  },
  {
   "cell_type": "code",
   "execution_count": null,
   "metadata": {},
   "outputs": [],
   "source": [
    "movement_data = pd.Series(dtype=float)\n",
    "movement_data = pd.read_csv(\"original_data/puryear_movement.csv\", index_col=0)\n",
    "movement_data.to_csv(\"data/cleaned_puryear_movement.csv\")"
   ]
  },
  {
   "cell_type": "markdown",
   "metadata": {},
   "source": [
    "## Audio\n",
    "This next part is a bit complicated\n",
    "\n",
    "format = `%YYYY-%MM-%DD %HH:%MM:%%SS - %YYYY-%MM-%DD %HH:%MM:%%SS,%DB_Val`"
   ]
  },
  {
   "cell_type": "code",
   "execution_count": null,
   "metadata": {},
   "outputs": [],
   "source": [
    "audio_data = pd.DataFrame(dtype=float)\n",
    "audio_data = pd.read_csv(\"original_data/puryear_audio.csv\")\n",
    "\n",
    "# idea for repeating values, find the daily average\n",
    "\n",
    "audio_data_cleaned = pd.Series(dtype=float)\n",
    "\n",
    "for i in range(len(audio_data)):\n",
    "    audio_data_date_string = audio_data.iloc[i][\"Date\"]\n",
    "    cropped_audio_date_string = audio_data_date_string[0:19]\n",
    "    audio_data_cleaned[cropped_audio_date_string] =  audio_data.iloc[i][\"Headphone sound levels(dBASPL)\"]"
   ]
  },
  {
   "cell_type": "markdown",
   "metadata": {},
   "source": [
    "### Just to save time because that took a while I exported it to a new csv file"
   ]
  },
  {
   "cell_type": "code",
   "execution_count": null,
   "metadata": {},
   "outputs": [],
   "source": [
    "audio_data_cleaned.to_csv(\"data/temporary_audio.csv\")\n",
    "audio_data_cleaned = pd.read_csv(\"data/temporary_audio.csv\")"
   ]
  },
  {
   "cell_type": "markdown",
   "metadata": {},
   "source": [
    "## Combining the dates of the audio"
   ]
  },
  {
   "cell_type": "code",
   "execution_count": null,
   "metadata": {},
   "outputs": [],
   "source": [
    "audio_data_cleaned_again = pd.Series(dtype=float)\n",
    "\n",
    "# finding the average of the daily values\n",
    "sum = 1\n",
    "amount = audio_data_cleaned.iloc[0][1]\n",
    "audio_data_cleaned_prev_date = audio_data_cleaned.iloc[0][0][0:10]\n",
    "\n",
    "# yes this works!\n",
    "for i in range(1,len(audio_data_cleaned)):\n",
    "    audio_data_cleaned_date = audio_data_cleaned.iloc[i][0][0:10]\n",
    "    if audio_data_cleaned_date == audio_data_cleaned_prev_date: # if this date is the same as the day before do this\n",
    "        sum = sum + 1\n",
    "        amount = amount + audio_data_cleaned.iloc[i][1]\n",
    "    else: # otherwise reset all the values and continue\n",
    "        sum = 1\n",
    "        amount = audio_data_cleaned.iloc[i][1]\n",
    "        audio_data_cleaned_prev_date = audio_data_cleaned.iloc[i][0][0:10]\n",
    "        audio_data_cleaned_again[audio_data_cleaned_date] = (amount / sum)"
   ]
  },
  {
   "cell_type": "code",
   "execution_count": null,
   "metadata": {},
   "outputs": [],
   "source": [
    "audio_data_cleaned_again_df = pd.DataFrame(audio_data_cleaned_again)\n",
    "audio_data_cleaned_again_df.columns = [\"Headphone sound levels(dBASPL)\"]\n",
    "audio_data_cleaned_again_df.rename_axis(\"Date\",inplace=True)\n",
    "audio_data_cleaned_again_df.to_csv(\"data/cleaned_puryear_audio.csv\")"
   ]
  },
  {
   "cell_type": "markdown",
   "metadata": {},
   "source": [
    "### I decided to make a function that combines the days"
   ]
  },
  {
   "cell_type": "code",
   "execution_count": null,
   "metadata": {},
   "outputs": [],
   "source": [
    "def combine_days_in_ser(original_series):\n",
    "    # finding the average of the daily values\n",
    "    sum = 1\n",
    "    amount = original_series.iloc[0][1]\n",
    "    prev_date = original_series.iloc[0][0][0:10]\n",
    "\n",
    "    cleaned_series = pd.Series(dtype=float)\n",
    "\n",
    "    # print(len(original_series))\n",
    "    # yes this works!\n",
    "    for i in range(1,len(original_series)):\n",
    "        original_series_date = original_series.iloc[i][0][0:10]\n",
    "        if original_series_date == prev_date: # if this date is the same as the day before do this\n",
    "            sum = sum + 1\n",
    "            amount = amount + original_series.iloc[i][1]\n",
    "        else: # otherwise reset all the values and continue\n",
    "            sum = 1\n",
    "            amount = original_series.iloc[i][1]\n",
    "            prev_date = audio_data_cleaned.iloc[i][0][0:10]\n",
    "            cleaned_series[original_series_date] = amount\n",
    "\n",
    "    return cleaned_series"
   ]
  },
  {
   "cell_type": "markdown",
   "metadata": {},
   "source": [
    "## Sleep"
   ]
  },
  {
   "cell_type": "markdown",
   "metadata": {},
   "source": [
    "Format = `%YYYY-%MM-%DD %HH:%MM:%%SS - %YYYY-%MM-%DD %HH:%MM:%%SS,%DB_Val`"
   ]
  },
  {
   "cell_type": "code",
   "execution_count": null,
   "metadata": {},
   "outputs": [],
   "source": [
    "sleep_data = pd.Series(dtype=float)\n",
    "\n",
    "sleep_data = pd.read_csv(\"original_data/puryear_sleep.csv\")\n",
    "\n",
    "# i notice how whenever there is a super small one, its always after a longer one.\n",
    "# my theory is that that is when i actually pick up my phone first, but then i put it down.\n",
    "# maybe i hit snooze\n",
    "\n",
    "# first thing i am going to do is see if i can get the first value before the -, i feel like the stuff after the dash is not needed since we will have the value\n",
    "\n",
    "# print(sleep_data)\n",
    "\n",
    "sleep_data_cleaned = pd.Series(dtype=float)\n",
    "# print(sleep_data)\n",
    "\n",
    "for i in range(len(sleep_data)):\n",
    "    current_date_string = sleep_data.iloc[i][\"Date\"]\n",
    "    cropped_date_string = current_date_string[0:19]\n",
    "    sleep_data_cleaned[cropped_date_string] =  sleep_data.iloc[i][\"Time in bed(hr)\"]\n",
    "\n",
    "# i am just going to drop the time if it is less than 0.5 hours (half an hour)\n",
    "sleep_data_cleaned = sleep_data_cleaned[sleep_data_cleaned>0.5]\n",
    "\n",
    "# this will also make it possible for me to have all nighters when in reality i didnt\n",
    "# i also specifically remember times where it said that i pulled all nighters when i just fell asleep with youtube playing\n",
    "\n",
    "# idea\n",
    "# combine all values that have the same day\n",
    "    # issue, if i went to bed at 2am on a certain day, then went to bed at 11pm that same day. Then we have a problem"
   ]
  },
  {
   "cell_type": "code",
   "execution_count": null,
   "metadata": {},
   "outputs": [],
   "source": [
    "sleep_data_cleaned.to_csv(\"data/temporary_sleep.csv\")\n",
    "sleep_data_cleaned = pd.read_csv(\"data/temporary_sleep.csv\")"
   ]
  },
  {
   "cell_type": "code",
   "execution_count": null,
   "metadata": {},
   "outputs": [],
   "source": [
    "sleep_data_cleaned_again = (combine_days_in_ser(sleep_data_cleaned)) # this will have issues"
   ]
  },
  {
   "cell_type": "code",
   "execution_count": null,
   "metadata": {},
   "outputs": [],
   "source": [
    "sleep_data_cleaned_again_df = pd.DataFrame(sleep_data_cleaned_again)\n",
    "sleep_data_cleaned_again_df.columns =[\"Time in bed(hr)\"]\n",
    "sleep_data_cleaned_again_df.rename_axis(\"Date\",inplace=True)\n",
    "\n",
    "sleep_data_cleaned_again_df.to_csv(\"data/cleaned_puryear_sleep.csv\")"
   ]
  },
  {
   "cell_type": "markdown",
   "metadata": {},
   "source": [
    "# EDA"
   ]
  },
  {
   "cell_type": "markdown",
   "metadata": {},
   "source": [
    "# Graphs"
   ]
  },
  {
   "cell_type": "markdown",
   "metadata": {},
   "source": [
    "## Combine all 3 dataframes "
   ]
  },
  {
   "cell_type": "code",
   "execution_count": null,
   "metadata": {},
   "outputs": [],
   "source": [
    "movement_data = pd.DataFrame(dtype=float)\n",
    "movement_data = pd.read_csv(\"data/cleaned_puryear_movement.csv\",index_col=0)\n",
    "\n",
    "audio_data = pd.DataFrame(dtype=float)\n",
    "audio_data = pd.read_csv(\"data/cleaned_puryear_audio.csv\",index_col=0)\n",
    "# audio_data.columns = [\"Date\",\"Headphone sound levels(dBASPL)\"]\n",
    "\n",
    "sleep_data = pd.DataFrame(dtype=float)\n",
    "sleep_data = pd.read_csv(\"data/cleaned_puryear_sleep.csv\",index_col=0)\n",
    "# sleep_data.columns = [\"Date\",\"Time in bed(hr)\"]"
   ]
  },
  {
   "cell_type": "code",
   "execution_count": null,
   "metadata": {},
   "outputs": [],
   "source": [
    "sleep_and_audio_data = pd.merge(sleep_data,audio_data,on=\"Date\")\n",
    "all_data = pd.merge(sleep_and_audio_data,movement_data, on=\"Date\")"
   ]
  },
  {
   "cell_type": "markdown",
   "metadata": {},
   "source": [
    "## Movement"
   ]
  },
  {
   "cell_type": "code",
   "execution_count": null,
   "metadata": {},
   "outputs": [],
   "source": [
    "ax = movement_data.plot(subplots=True)\n",
    "fig = ax[0].get_figure()\n",
    "fig.savefig(\"figures/movement_graph.jpg\",dpi=500)"
   ]
  },
  {
   "cell_type": "markdown",
   "metadata": {},
   "source": [
    "## Audio"
   ]
  },
  {
   "cell_type": "code",
   "execution_count": null,
   "metadata": {},
   "outputs": [],
   "source": [
    "ax = audio_data.plot(subplots=True)\n",
    "fig = ax[0].get_figure()\n",
    "fig.savefig(\"figures/audio_graph.jpg\",dpi=500)"
   ]
  },
  {
   "cell_type": "markdown",
   "metadata": {},
   "source": [
    "## Sleep"
   ]
  },
  {
   "cell_type": "code",
   "execution_count": null,
   "metadata": {},
   "outputs": [],
   "source": [
    "ax = sleep_data.plot(subplots=True)\n",
    "fig = ax[0].get_figure()\n",
    "fig.savefig(\"figures/sleep_graph.jpg\",dpi=500)"
   ]
  },
  {
   "cell_type": "markdown",
   "metadata": {},
   "source": [
    "## All Data"
   ]
  },
  {
   "cell_type": "code",
   "execution_count": null,
   "metadata": {},
   "outputs": [],
   "source": [
    "ax = all_data.plot(subplots=True)\n",
    "fig = ax[0].get_figure()\n",
    "fig.savefig(\"figures/combined_graph.jpg\",dpi=500)"
   ]
  },
  {
   "cell_type": "markdown",
   "metadata": {},
   "source": [
    "## Combined Graph\n",
    "<img src=\"figures\\combined_graph.jpg\" width=\"600\"/>"
   ]
  },
  {
   "cell_type": "markdown",
   "metadata": {},
   "source": [
    "# Interpolate data for VISUAL analysis"
   ]
  },
  {
   "cell_type": "code",
   "execution_count": null,
   "metadata": {},
   "outputs": [],
   "source": [
    "# making new dataframes\n",
    "movement_data = pd.DataFrame(dtype=float)\n",
    "movement_data = pd.read_csv(\"data/cleaned_puryear_movement.csv\")\n",
    "\n",
    "audio_data = pd.DataFrame(dtype=float)\n",
    "audio_data = pd.read_csv(\"data/cleaned_puryear_audio.csv\")\n",
    "audio_data.columns = [\"Date\",\"Headphone sound levels(dBASPL)\"]\n",
    "\n",
    "sleep_data = pd.DataFrame(dtype=float)\n",
    "sleep_data = pd.read_csv(\"data/cleaned_puryear_sleep.csv\")\n",
    "sleep_data.columns = [\"Date\",\"Time in bed(hr)\"]"
   ]
  },
  {
   "cell_type": "markdown",
   "metadata": {},
   "source": [
    "## Audio"
   ]
  },
  {
   "cell_type": "code",
   "execution_count": null,
   "metadata": {},
   "outputs": [],
   "source": [
    "# interpolate audio data\n",
    "audio_data.mask((audio_data[\"Headphone sound levels(dBASPL)\"] <= 30) & (audio_data[\"Headphone sound levels(dBASPL)\"] <= 100),inplace=True) # filtering out the outliers\n",
    "audio_data.interpolate(method=\"cubic\",inplace=True)\n",
    "audio_data.fillna(method=\"bfill\",inplace=True)"
   ]
  },
  {
   "cell_type": "code",
   "execution_count": null,
   "metadata": {},
   "outputs": [],
   "source": [
    "audio_data_combined = audio_data.merge(audio_data[\"Headphone sound levels(dBASPL)\"].ewm(alpha=0.1).mean(),left_index=True,right_index=True)\n",
    "audio_data_combined.columns=[\"Date\",\"Headphone sound levels(dBASPL)\",\"Headphone sound levels(dBASPL) MOVING AVERAGE\"]\n",
    "\n",
    "audio_data_combined.set_index(\"Date\",inplace=True)\n",
    "\n",
    "audio_data_combined.to_csv(\"data/cleaned_puryear_audio_ewm.csv\")"
   ]
  },
  {
   "cell_type": "code",
   "execution_count": null,
   "metadata": {},
   "outputs": [],
   "source": [
    "ax = audio_data_combined.plot()\n",
    "fig = ax.get_figure()\n",
    "fig.savefig(\"figures/moving_avg_audio_graph.jpg\",dpi=500)"
   ]
  },
  {
   "cell_type": "markdown",
   "metadata": {},
   "source": [
    "<img src=\"figures\\moving_avg_audio_graph.jpg\" width=\"600\"/>"
   ]
  },
  {
   "cell_type": "markdown",
   "metadata": {},
   "source": [
    "## Sleep"
   ]
  },
  {
   "cell_type": "code",
   "execution_count": null,
   "metadata": {},
   "outputs": [],
   "source": [
    "# interpolate sleep data\n",
    "sleep_data.interpolate(method=\"cubic\",inplace=True)\n",
    "sleep_data.fillna(method=\"bfill\",inplace=True)"
   ]
  },
  {
   "cell_type": "code",
   "execution_count": null,
   "metadata": {},
   "outputs": [],
   "source": [
    "sleep_data_combined = sleep_data.merge(sleep_data[\"Time in bed(hr)\"].ewm(alpha=0.1).mean(),left_index=True,right_index=True)\n",
    "sleep_data_combined.columns=[\"Date\",\"Time in bed(hr)\",\"Time in bed(hr) MOVING AVERAGE\"]\n",
    "\n",
    "sleep_data_combined.set_index(\"Date\",inplace=True)\n",
    "\n",
    "sleep_data_combined.to_csv(\"data/cleaned_puryear_sleep_ewm.csv\")"
   ]
  },
  {
   "cell_type": "code",
   "execution_count": null,
   "metadata": {},
   "outputs": [],
   "source": [
    "ax = sleep_data_combined.plot()\n",
    "fig = ax.get_figure()\n",
    "fig.savefig(\"figures/moving_avg_sleep_graph.jpg\",dpi=500)"
   ]
  },
  {
   "cell_type": "markdown",
   "metadata": {},
   "source": [
    "<img src=\"figures\\moving_avg_sleep_graph.jpg\" width=\"600\"/>"
   ]
  },
  {
   "cell_type": "markdown",
   "metadata": {},
   "source": [
    "## Movement"
   ]
  },
  {
   "cell_type": "code",
   "execution_count": null,
   "metadata": {},
   "outputs": [],
   "source": [
    "# interpolate movement data\n",
    "movement_data.interpolate(method=\"cubic\",inplace=True)\n",
    "movement_data.fillna(method=\"bfill\",inplace=True)\n",
    "\n",
    "movement_data_distance = pd.DataFrame(movement_data[\"Distance walking / running(mi)\"])\n",
    "movement_data_flights = pd.DataFrame(movement_data[\"Flights climbed(count)\"])\n",
    "movement_data_step = pd.DataFrame(movement_data[\"Step count(count)\"])"
   ]
  },
  {
   "cell_type": "code",
   "execution_count": null,
   "metadata": {},
   "outputs": [],
   "source": [
    "# reset indexes\n",
    "movement_data_distance.set_index(movement_data[\"Date\"],inplace=True)\n",
    "movement_data_flights.set_index(movement_data[\"Date\"],inplace=True)\n",
    "movement_data_step.set_index(movement_data[\"Date\"],inplace=True)\n",
    "\n",
    "# create the combined datasets\n",
    "movement_data_distance_combined = movement_data_distance.merge(movement_data_distance[\"Distance walking / running(mi)\"].ewm(alpha=0.1).mean(),left_index=True,right_index=True)\n",
    "movement_data_flights_combined = movement_data_flights.merge(movement_data_flights[\"Flights climbed(count)\"].ewm(alpha=0.1).mean(),left_index=True,right_index=True)\n",
    "movement_data_step_combined = movement_data_step.merge(movement_data_step[\"Step count(count)\"].ewm(alpha=0.1).mean(),left_index=True,right_index=True)\n"
   ]
  },
  {
   "cell_type": "code",
   "execution_count": null,
   "metadata": {},
   "outputs": [],
   "source": [
    "# rename the columns\n",
    "movement_data_distance_combined.columns=[\"Distance walking / running(mi)\",\"Distance walking / running(mi) MOVING AVERAGE\"]\n",
    "movement_data_flights_combined.columns=[\"Flights climbed(count)\",\"Flights climbed(count) MOVING AVERAGE\"]\n",
    "movement_data_step_combined.columns=[\"Step count(count)\",\"Step count(count) MOVING AVERAGE\"]"
   ]
  },
  {
   "cell_type": "code",
   "execution_count": null,
   "metadata": {},
   "outputs": [],
   "source": [
    "# output to csv\n",
    "movement_data_distance_combined.to_csv(\"data/clean_puryear_movement_distance_ewm.csv\")\n",
    "movement_data_flights_combined.to_csv(\"data/clean_puryear_movement_flights_ewm.csv\")\n",
    "movement_data_step_combined.to_csv(\"data/clean_puryear_movement_step_ewm.csv\")"
   ]
  },
  {
   "cell_type": "code",
   "execution_count": null,
   "metadata": {},
   "outputs": [],
   "source": [
    "# create and output plots\n",
    "ax = movement_data_distance_combined.plot()\n",
    "fig = ax.get_figure()\n",
    "fig.savefig(\"figures/moving_avg_movement_distance_graph.jpg\",dpi=500)\n",
    "\n",
    "ax = movement_data_flights_combined.plot()\n",
    "fig = ax.get_figure()\n",
    "fig.savefig(\"figures/moving_avg_movement_flights_graph.jpg\",dpi=500)\n",
    "\n",
    "ax = movement_data_step_combined.plot()\n",
    "fig = ax.get_figure()\n",
    "fig.savefig(\"figures/moving_avg_movement_steps_graph.jpg\",dpi=500)"
   ]
  },
  {
   "cell_type": "markdown",
   "metadata": {},
   "source": [
    "eda before hyp testing\n",
    "\n",
    "eda\n"
   ]
  },
  {
   "cell_type": "markdown",
   "metadata": {},
   "source": [
    "# Hypothesis"
   ]
  },
  {
   "cell_type": "markdown",
   "metadata": {},
   "source": [
    "### Null Hypothesis\n",
    "There is no coorilation between the steps I take, the \n",
    "\n",
    "* $H_0$ has always the equal sign\n",
    "    * E.g. $H_0: \\mu \\geq 20$\n",
    "    * E.g. $H_0: \\mu \\leq 20$"
   ]
  },
  {
   "cell_type": "markdown",
   "metadata": {},
   "source": [
    "# Test"
   ]
  },
  {
   "cell_type": "code",
   "execution_count": null,
   "metadata": {},
   "outputs": [],
   "source": [
    "print(\"Done!\")"
   ]
  }
 ],
 "metadata": {
  "interpreter": {
   "hash": "42f2e04143d7207fe24b7231a7967b30a58f6a4af2031ceb790690a1f6850973"
  },
  "kernelspec": {
   "display_name": "Python 3.7.11 64-bit ('base': conda)",
   "name": "python3"
  },
  "language_info": {
   "codemirror_mode": {
    "name": "ipython",
    "version": 3
   },
   "file_extension": ".py",
   "mimetype": "text/x-python",
   "name": "python",
   "nbconvert_exporter": "python",
   "pygments_lexer": "ipython3",
   "version": "3.9.7"
  },
  "orig_nbformat": 4
 },
 "nbformat": 4,
 "nbformat_minor": 2
}
