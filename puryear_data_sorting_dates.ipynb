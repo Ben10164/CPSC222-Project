{
 "cells": [
  {
   "cell_type": "code",
   "execution_count": 1,
   "metadata": {},
   "outputs": [],
   "source": [
    "import pandas as pd\n",
    "import numpy as np\n",
    "import matplotlib.pyplot as plt"
   ]
  },
  {
   "cell_type": "markdown",
   "metadata": {},
   "source": [
    "## T-test\n",
    "#### The subject has exported his iPhones movement data, as well as his sleep and headphone volume data. Using a level of significance of 0.1, is there any major difference between the data for the weekdays vs the weekends?\n",
    "* Null Hypothesis:\n",
    "    * There is no significant difference: $\\alpha \\le 0.1$\n",
    "* Alternate Hypothesis:\n",
    "    * There is a significant difference: $\\alpha \\gt 0.1$"
   ]
  },
  {
   "cell_type": "code",
   "execution_count": 2,
   "metadata": {},
   "outputs": [],
   "source": [
    "# return the date of the week of a given date in the format of 'YYYY-MM-DD'\n",
    "def get_weekday(date):\n",
    "    return pd.to_datetime(date).strftime('%A')\n",
    "\n",
    "audio_df = pd.read_csv(\"data/cleaned_puryear_audio.csv\",index_col=0)\n",
    "movement_df = pd.read_csv(\"data/cleaned_puryear_movement.csv\",index_col=0)\n",
    "sleep_df = pd.read_csv(\"data/cleaned_puryear_sleep.csv\",index_col=0)"
   ]
  },
  {
   "cell_type": "code",
   "execution_count": 3,
   "metadata": {},
   "outputs": [],
   "source": [
    "def return_dataframe_of_weekend(df):\n",
    "    df = df.reset_index()\n",
    "    weekday_df = pd.DataFrame()\n",
    "    weekday_df['Weekday'] = df['Date'].apply(get_weekday)\n",
    "    df = df.join(weekday_df)\n",
    "    sunday_and_saturday_df = df[df['Weekday'] == 'Sunday'].append(df[df['Weekday'] == 'Saturday']) # append the dataframe of all weekends\n",
    "    sunday_and_saturday_df['Date'] = pd.to_datetime(sunday_and_saturday_df['Date']) # convert to datetime\n",
    "    sunday_and_saturday_df['Date'] = sunday_and_saturday_df['Date'].dt.strftime('%Y-%m-%d') # set the format of the date to 'YYYY-MM-DD'\n",
    "    sunday_and_saturday_df = sunday_and_saturday_df.sort_values(by=['Date']) # sort by date\n",
    "    sunday_and_saturday_df.set_index(\"Date\",inplace=True)\n",
    "    return sunday_and_saturday_df\n",
    "\n",
    "weekend_audio_df = return_dataframe_of_weekend(audio_df)\n",
    "weekend_movement_df = return_dataframe_of_weekend(movement_df)\n",
    "weekend_sleep_df = return_dataframe_of_weekend(sleep_df)"
   ]
  },
  {
   "cell_type": "code",
   "execution_count": 4,
   "metadata": {},
   "outputs": [],
   "source": [
    "def return_dataframe_of_weekday(df):\n",
    "    df = df.reset_index()\n",
    "    weekday_df = pd.DataFrame()\n",
    "    weekday_df['Weekday'] = df['Date'].apply(get_weekday)\n",
    "    df = df.join(weekday_df)\n",
    "\n",
    "    weekdays_df = df[df['Weekday'] != 'Sunday']\n",
    "    weekdays_df = weekdays_df[weekdays_df['Weekday'] != 'Saturday']\n",
    "    weekdays_df['Date'] = pd.to_datetime(weekdays_df['Date']) # convert to datetime\n",
    "    weekdays_df['Date'] = weekdays_df['Date'].dt.strftime('%Y-%m-%d') # set the format of the date to 'YYYY-MM-DD'\n",
    "    weekdays_df = weekdays_df.sort_values(by=['Date']) # sort by date\n",
    "    weekdays_df.set_index(\"Date\",inplace=True)\n",
    "\n",
    "    return weekdays_df\n",
    "\n",
    "weekday_audio_df = return_dataframe_of_weekday(audio_df)\n",
    "weekday_movement_df = return_dataframe_of_weekday(movement_df)\n",
    "weekday_sleep_df = return_dataframe_of_weekday(sleep_df)"
   ]
  },
  {
   "cell_type": "markdown",
   "metadata": {},
   "source": [
    "#### Sleep"
   ]
  },
  {
   "cell_type": "code",
   "execution_count": 5,
   "metadata": {},
   "outputs": [
    {
     "name": "stdout",
     "output_type": "stream",
     "text": [
      "1.742979969284832 0.08236511393322003\n"
     ]
    }
   ],
   "source": [
    "import numpy as np\n",
    "import scipy.stats as stats \n",
    "\n",
    "t,p = stats.ttest_ind(weekday_sleep_df[\"Time in bed(hr)\"],weekend_sleep_df[\"Time in bed(hr)\"])\n",
    "\n",
    "print(t,p)"
   ]
  },
  {
   "cell_type": "markdown",
   "metadata": {},
   "source": [
    "* There is a difference"
   ]
  },
  {
   "cell_type": "markdown",
   "metadata": {},
   "source": [
    "#### Audio"
   ]
  },
  {
   "cell_type": "code",
   "execution_count": 6,
   "metadata": {},
   "outputs": [
    {
     "name": "stdout",
     "output_type": "stream",
     "text": [
      "0.5317425492531812 0.59523137673974\n"
     ]
    }
   ],
   "source": [
    "t,p = stats.ttest_ind(weekday_audio_df[\"Headphone sound levels(dBASPL)\"],weekend_audio_df[\"Headphone sound levels(dBASPL)\"])\n",
    "\n",
    "print(t,p)"
   ]
  },
  {
   "cell_type": "markdown",
   "metadata": {},
   "source": [
    "* There is not a difference"
   ]
  },
  {
   "cell_type": "markdown",
   "metadata": {},
   "source": [
    "### Movement"
   ]
  },
  {
   "cell_type": "markdown",
   "metadata": {},
   "source": [
    "#### Steps"
   ]
  },
  {
   "cell_type": "code",
   "execution_count": null,
   "metadata": {},
   "outputs": [],
   "source": []
  },
  {
   "cell_type": "markdown",
   "metadata": {},
   "source": [
    "#### Distance"
   ]
  },
  {
   "cell_type": "code",
   "execution_count": null,
   "metadata": {},
   "outputs": [],
   "source": []
  },
  {
   "cell_type": "markdown",
   "metadata": {},
   "source": [
    "#### Flights climbed"
   ]
  },
  {
   "cell_type": "code",
   "execution_count": null,
   "metadata": {},
   "outputs": [],
   "source": []
  }
 ],
 "metadata": {
  "interpreter": {
   "hash": "42f2e04143d7207fe24b7231a7967b30a58f6a4af2031ceb790690a1f6850973"
  },
  "kernelspec": {
   "display_name": "Python 3.7.11 64-bit ('base': conda)",
   "name": "python3"
  },
  "language_info": {
   "codemirror_mode": {
    "name": "ipython",
    "version": 3
   },
   "file_extension": ".py",
   "mimetype": "text/x-python",
   "name": "python",
   "nbconvert_exporter": "python",
   "pygments_lexer": "ipython3",
   "version": "3.9.7"
  },
  "orig_nbformat": 4
 },
 "nbformat": 4,
 "nbformat_minor": 2
}
