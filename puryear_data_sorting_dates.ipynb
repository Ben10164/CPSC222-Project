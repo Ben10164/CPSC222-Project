{
 "cells": [
  {
   "cell_type": "code",
   "execution_count": 4,
   "metadata": {},
   "outputs": [],
   "source": [
    "import pandas as pd\n",
    "import numpy as np\n",
    "import matplotlib.pyplot as plt"
   ]
  },
  {
   "cell_type": "code",
   "execution_count": 55,
   "metadata": {},
   "outputs": [
    {
     "name": "stdout",
     "output_type": "stream",
     "text": [
      "            Headphone sound levels(dBASPL)\n",
      "Date                                      \n",
      "2020-11-22                          66.064\n",
      "2020-11-23                          61.650\n",
      "2020-11-24                          54.927\n",
      "2020-11-25                          57.506\n",
      "2020-11-26                          39.405\n",
      "...                                    ...\n",
      "2021-11-17                          65.809\n",
      "2021-11-18                          62.816\n",
      "2021-11-19                          57.094\n",
      "2021-11-20                          59.618\n",
      "2021-11-21                          60.938\n",
      "\n",
      "[363 rows x 1 columns]\n"
     ]
    }
   ],
   "source": [
    "# return the date of the week of a given date in the format of 'YYYY-MM-DD'\n",
    "def get_weekday(date):\n",
    "    return pd.to_datetime(date).strftime('%A')\n",
    "\n",
    "audio_df = pd.read_csv(\"cleaned_puryear_audio.csv\",index_col=0)\n",
    "movement_df = pd.read_csv(\"cleaned_puryear_movement.csv\",index_col=0)\n",
    "sleep_df = pd.read_csv(\"cleaned_puryear_sleep.csv\",index_col=0)\n",
    "print(audio_df)"
   ]
  },
  {
   "cell_type": "code",
   "execution_count": 56,
   "metadata": {},
   "outputs": [
    {
     "name": "stdout",
     "output_type": "stream",
     "text": [
      "            Headphone sound levels(dBASPL)\n",
      "Date                                      \n",
      "2020-11-22                          66.064\n",
      "2020-11-23                          61.650\n",
      "2020-11-24                          54.927\n",
      "2020-11-25                          57.506\n",
      "2020-11-26                          39.405\n",
      "...                                    ...\n",
      "2021-11-17                          65.809\n",
      "2021-11-18                          62.816\n",
      "2021-11-19                          57.094\n",
      "2021-11-20                          59.618\n",
      "2021-11-21                          60.938\n",
      "\n",
      "[363 rows x 1 columns]\n",
      "            Headphone sound levels(dBASPL)   Weekday\n",
      "Date                                                \n",
      "2020-11-22                          66.064    Sunday\n",
      "2020-11-28                          58.506  Saturday\n",
      "2020-11-29                          57.477    Sunday\n",
      "2020-12-05                          64.033  Saturday\n",
      "2020-12-06                          66.409    Sunday\n",
      "...                                    ...       ...\n",
      "2021-11-07                          69.931    Sunday\n",
      "2021-11-13                          62.860  Saturday\n",
      "2021-11-14                          57.851    Sunday\n",
      "2021-11-20                          59.618  Saturday\n",
      "2021-11-21                          60.938    Sunday\n",
      "\n",
      "[103 rows x 2 columns]\n",
      "            Distance walking / running(mi)  Flights climbed(count)  \\\n",
      "Date                                                                 \n",
      "2020-11-21                           1.023                     5.0   \n",
      "2020-11-22                           1.202                     2.0   \n",
      "2020-11-28                           0.383                     3.0   \n",
      "2020-11-29                           2.036                     6.0   \n",
      "2020-12-05                           0.399                     3.0   \n",
      "...                                    ...                     ...   \n",
      "2021-11-07                           0.896                     4.0   \n",
      "2021-11-13                           2.684                     4.0   \n",
      "2021-11-14                           1.273                     6.0   \n",
      "2021-11-20                           0.507                     4.0   \n",
      "2021-11-21                           0.004                     0.0   \n",
      "\n",
      "            Step count(count)   Weekday  \n",
      "Date                                     \n",
      "2020-11-21           2471.000  Saturday  \n",
      "2020-11-22           2650.515    Sunday  \n",
      "2020-11-28            829.000  Saturday  \n",
      "2020-11-29           4508.000    Sunday  \n",
      "2020-12-05            850.000  Saturday  \n",
      "...                       ...       ...  \n",
      "2021-11-07           2082.000    Sunday  \n",
      "2021-11-13           6616.000  Saturday  \n",
      "2021-11-14           2879.000    Sunday  \n",
      "2021-11-20           1257.000  Saturday  \n",
      "2021-11-21              9.000    Sunday  \n",
      "\n",
      "[106 rows x 4 columns]\n"
     ]
    }
   ],
   "source": [
    "def return_dataframe_of_weekend(df):\n",
    "    df = df.reset_index()\n",
    "    weekday_df = pd.DataFrame()\n",
    "    weekday_df['Weekday'] = df['Date'].apply(get_weekday)\n",
    "    df = df.join(weekday_df)\n",
    "    sunday_and_saturday_df = df[df['Weekday'] == 'Sunday'].append(df[df['Weekday'] == 'Saturday']) # append the dataframe of all weekends\n",
    "    sunday_and_saturday_df['Date'] = pd.to_datetime(sunday_and_saturday_df['Date']) # convert to datetime\n",
    "    sunday_and_saturday_df['Date'] = sunday_and_saturday_df['Date'].dt.strftime('%Y-%m-%d') # set the format of the date to 'YYYY-MM-DD'\n",
    "    sunday_and_saturday_df = sunday_and_saturday_df.sort_values(by=['Date']) # sort by date\n",
    "    sunday_and_saturday_df.set_index(\"Date\",inplace=True)\n",
    "    return sunday_and_saturday_df\n",
    "\n",
    "print(audio_df)\n",
    "\n",
    "weekend_audio_df = return_dataframe_of_weekend(audio_df)\n",
    "print(weekend_audio_df)\n",
    "\n",
    "weekend_movement_df = return_dataframe_of_weekend(movement_df)\n",
    "print(weekend_movement_df)\n",
    "\n",
    "weekend_sleep_df = return_dataframe_of_weekend(sleep_df)\n",
    "\n",
    "# print(sleep_df)\n",
    "\n",
    "\n",
    "# weekday_df = pd.DataFrame()\n",
    "\n",
    "# weekday_df['WeekDay'] = sleep_df['Date'].apply(get_weekday)\n",
    "\n",
    "# sleep_df = sleep_df.join(weekday_df)\n",
    "\n",
    "# sunday_and_saturday_df = sleep_df[sleep_df['WeekDay'] == 'Sunday'].append(sleep_df[sleep_df['WeekDay'] == 'Saturday']) # append the dataframe of all weekends\n",
    "# sunday_and_saturday_df['Date'] = pd.to_datetime(sunday_and_saturday_df['Date']) # convert to datetime\n",
    "# sunday_and_saturday_df['Date'] = sunday_and_saturday_df['Date'].dt.strftime('%Y-%m-%d') # set the format of the date to 'YYYY-MM-DD'\n",
    "\n",
    "# print(sunday_and_saturday_df)\n",
    "\n",
    "# # sort the dataframe by date\n",
    "# sunday_and_saturday_df = sunday_and_saturday_df.sort_values(by=['Date'])\n",
    "\n",
    "# print(sunday_and_saturday_df)"
   ]
  }
 ],
 "metadata": {
  "interpreter": {
   "hash": "42f2e04143d7207fe24b7231a7967b30a58f6a4af2031ceb790690a1f6850973"
  },
  "kernelspec": {
   "display_name": "Python 3.7.11 64-bit ('base': conda)",
   "name": "python3"
  },
  "language_info": {
   "codemirror_mode": {
    "name": "ipython",
    "version": 3
   },
   "file_extension": ".py",
   "mimetype": "text/x-python",
   "name": "python",
   "nbconvert_exporter": "python",
   "pygments_lexer": "ipython3",
   "version": "3.7.11"
  },
  "orig_nbformat": 4
 },
 "nbformat": 4,
 "nbformat_minor": 2
}
