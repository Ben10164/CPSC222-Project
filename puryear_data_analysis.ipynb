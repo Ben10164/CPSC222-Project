{
 "cells": [
  {
   "cell_type": "markdown",
   "metadata": {},
   "source": [
    "# No comments / code are final"
   ]
  },
  {
   "cell_type": "code",
   "execution_count": 1,
   "metadata": {},
   "outputs": [],
   "source": [
    "import matplotlib.pyplot as plt\n",
    "import numpy as np\n",
    "import pandas as pd\n",
    "import scipy.stats as stats\n",
    "import math"
   ]
  },
  {
   "cell_type": "markdown",
   "metadata": {},
   "source": [
    "First i am importing the movement data, the index col is 0 because there are no repeating dates"
   ]
  },
  {
   "cell_type": "code",
   "execution_count": 2,
   "metadata": {},
   "outputs": [
    {
     "name": "stdout",
     "output_type": "stream",
     "text": [
      "            Distance walking / running(mi)  Flights climbed(count)  \\\n",
      "Date                                                                 \n",
      "2020-11-21                           1.023                     5.0   \n",
      "2020-11-22                           1.202                     2.0   \n",
      "2020-11-23                           2.455                     8.0   \n",
      "2020-11-24                           1.165                     4.0   \n",
      "2020-11-25                           2.444                     3.0   \n",
      "...                                    ...                     ...   \n",
      "2021-11-17                           2.624                     7.0   \n",
      "2021-11-18                           4.532                     7.0   \n",
      "2021-11-19                           3.492                    10.0   \n",
      "2021-11-20                           0.507                     4.0   \n",
      "2021-11-21                           0.004                     NaN   \n",
      "\n",
      "            Step count(count)  \n",
      "Date                           \n",
      "2020-11-21           2471.000  \n",
      "2020-11-22           2650.515  \n",
      "2020-11-23           5329.485  \n",
      "2020-11-24           2885.000  \n",
      "2020-11-25           5157.000  \n",
      "...                       ...  \n",
      "2021-11-17           6022.000  \n",
      "2021-11-18          10571.000  \n",
      "2021-11-19           8361.000  \n",
      "2021-11-20           1257.000  \n",
      "2021-11-21              9.000  \n",
      "\n",
      "[366 rows x 3 columns]\n"
     ]
    }
   ],
   "source": [
    "movement_data = pd.Series(dtype=float)\n",
    "\n",
    "movement_data = pd.read_csv(\"puryear_movement.csv\", index_col=0)\n",
    "\n",
    "print(movement_data)"
   ]
  },
  {
   "cell_type": "markdown",
   "metadata": {},
   "source": [
    "This next part is a bit complicated\n",
    "\n",
    "format = `%YYYY-%MM-%DD %HH:%MM:%%SS - %YYYY-%MM-%DD %HH:%MM:%%SS,%DB_Val`"
   ]
  },
  {
   "cell_type": "code",
   "execution_count": 4,
   "metadata": {},
   "outputs": [
    {
     "name": "stdout",
     "output_type": "stream",
     "text": [
      "                                           Headphone sound levels(dBASPL)\n",
      "Date                                                                     \n",
      "2020-11-21 00:46:57 - 2020-11-21 00:47:48                          55.523\n",
      "2020-11-21 00:47:48 - 2020-11-21 00:48:03                          51.612\n",
      "2020-11-21 00:48:03 - 2020-11-21 01:01:36                          56.874\n",
      "2020-11-21 11:47:18 - 2020-11-21 11:58:02                          57.440\n",
      "2020-11-21 13:56:45 - 2020-11-21 13:58:10                          58.108\n",
      "...                                                                   ...\n",
      "2021-11-20 12:33:07 - 2021-11-20 12:33:10                          77.055\n",
      "2021-11-20 12:35:07 - 2021-11-20 12:42:26                          60.440\n",
      "2021-11-20 12:43:06 - 2021-11-20 12:45:21                          66.131\n",
      "2021-11-21 10:11:19 - 2021-11-21 10:15:51                          60.938\n",
      "2021-11-21 10:15:59 - 2021-11-21 10:17:01                          58.514\n",
      "\n",
      "[16307 rows x 1 columns]\n"
     ]
    }
   ],
   "source": [
    "\n",
    "audio_data = pd.Series(dtype=float)\n",
    "\n",
    "audio_data = pd.read_csv(\"puryear_audio.csv\", index_col=0)\n",
    "\n",
    "print(audio_data)"
   ]
  },
  {
   "cell_type": "markdown",
   "metadata": {},
   "source": [
    "Format = `%YYYY-%MM-%DD %HH:%MM:%%SS - %YYYY-%MM-%DD %HH:%MM:%%SS,%DB_Val`"
   ]
  },
  {
   "cell_type": "code",
   "execution_count": 6,
   "metadata": {},
   "outputs": [
    {
     "name": "stdout",
     "output_type": "stream",
     "text": [
      "                                          Date  Time in bed(hr)\n",
      "0    2020-11-21 01:22:35 - 2020-11-21 07:41:23            6.314\n",
      "1    2020-11-22 07:24:09 - 2020-11-22 07:24:12            0.001\n",
      "2    2020-11-23 01:37:06 - 2020-11-23 08:08:59            6.531\n",
      "3    2020-11-23 08:11:34 - 2020-11-23 08:13:22            0.030\n",
      "4    2020-11-24 03:11:00 - 2020-11-24 07:30:56            4.332\n",
      "..                                         ...              ...\n",
      "636  2021-11-18 04:09:32 - 2021-11-18 04:09:53            0.006\n",
      "637  2021-11-18 04:20:48 - 2021-11-18 07:00:26            2.661\n",
      "638  2021-11-19 00:00:00 - 2021-11-19 07:00:20            7.006\n",
      "639  2021-11-20 02:08:53 - 2021-11-20 07:00:02            4.853\n",
      "640  2021-11-21 00:00:00 - 2021-11-21 06:59:37            6.994\n",
      "\n",
      "[641 rows x 2 columns]\n"
     ]
    }
   ],
   "source": [
    "sleep_data = pd.Series(dtype=float)\n",
    "\n",
    "sleep_data = pd.read_csv(\"puryear_in_bed.csv\")\n",
    "\n",
    "# i notice how whenever there is a super small one, its always after a longer one.\n",
    "# my theory is that that is when i actually pick up my phone first, but then i put it down.\n",
    "# maybe i hit snooze\n",
    "\n",
    "\n",
    "\n",
    "print(sleep_data)"
   ]
  }
 ],
 "metadata": {
  "interpreter": {
   "hash": "42f2e04143d7207fe24b7231a7967b30a58f6a4af2031ceb790690a1f6850973"
  },
  "kernelspec": {
   "display_name": "Python 3.7.11 64-bit ('base': conda)",
   "name": "python3"
  },
  "language_info": {
   "codemirror_mode": {
    "name": "ipython",
    "version": 3
   },
   "file_extension": ".py",
   "mimetype": "text/x-python",
   "name": "python",
   "nbconvert_exporter": "python",
   "pygments_lexer": "ipython3",
   "version": "3.7.11"
  },
  "orig_nbformat": 4
 },
 "nbformat": 4,
 "nbformat_minor": 2
}
