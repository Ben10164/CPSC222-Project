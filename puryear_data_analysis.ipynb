{
 "cells": [
  {
   "cell_type": "markdown",
   "metadata": {},
   "source": [
    "# No comments / code are final"
   ]
  },
  {
   "cell_type": "code",
   "execution_count": 64,
   "metadata": {},
   "outputs": [],
   "source": [
    "import matplotlib.pyplot as plt\n",
    "import numpy as np\n",
    "import pandas as pd\n",
    "import scipy.stats as stats\n",
    "import math"
   ]
  },
  {
   "cell_type": "markdown",
   "metadata": {},
   "source": [
    "# Movement"
   ]
  },
  {
   "cell_type": "code",
   "execution_count": 65,
   "metadata": {},
   "outputs": [
    {
     "name": "stdout",
     "output_type": "stream",
     "text": [
      "            Distance walking / running(mi)  Flights climbed(count)  \\\n",
      "Date                                                                 \n",
      "2020-11-21                           1.023                     5.0   \n",
      "2020-11-22                           1.202                     2.0   \n",
      "2020-11-23                           2.455                     8.0   \n",
      "2020-11-24                           1.165                     4.0   \n",
      "2020-11-25                           2.444                     3.0   \n",
      "...                                    ...                     ...   \n",
      "2021-11-17                           2.624                     7.0   \n",
      "2021-11-18                           4.532                     7.0   \n",
      "2021-11-19                           3.492                    10.0   \n",
      "2021-11-20                           0.507                     4.0   \n",
      "2021-11-21                           0.004                     NaN   \n",
      "\n",
      "            Step count(count)  \n",
      "Date                           \n",
      "2020-11-21           2471.000  \n",
      "2020-11-22           2650.515  \n",
      "2020-11-23           5329.485  \n",
      "2020-11-24           2885.000  \n",
      "2020-11-25           5157.000  \n",
      "...                       ...  \n",
      "2021-11-17           6022.000  \n",
      "2021-11-18          10571.000  \n",
      "2021-11-19           8361.000  \n",
      "2021-11-20           1257.000  \n",
      "2021-11-21              9.000  \n",
      "\n",
      "[366 rows x 3 columns]\n"
     ]
    }
   ],
   "source": [
    "movement_data = pd.Series(dtype=float)\n",
    "\n",
    "movement_data = pd.read_csv(\"puryear_movement.csv\", index_col=0)\n",
    "\n",
    "print(movement_data)"
   ]
  },
  {
   "cell_type": "markdown",
   "metadata": {},
   "source": [
    "# Audio\n",
    "This next part is a bit complicated\n",
    "\n",
    "format = `%YYYY-%MM-%DD %HH:%MM:%%SS - %YYYY-%MM-%DD %HH:%MM:%%SS,%DB_Val`"
   ]
  },
  {
   "cell_type": "code",
   "execution_count": 66,
   "metadata": {},
   "outputs": [
    {
     "name": "stdout",
     "output_type": "stream",
     "text": [
      "2020-11-21 00:46:57    55.523\n",
      "2020-11-21 00:47:48    51.612\n",
      "2020-11-21 00:48:03    56.874\n",
      "2020-11-21 11:47:18    57.440\n",
      "2020-11-21 13:56:45    58.108\n",
      "                        ...  \n",
      "2021-11-20 12:33:07    77.055\n",
      "2021-11-20 12:35:07    60.440\n",
      "2021-11-20 12:43:06    66.131\n",
      "2021-11-21 10:11:19    60.938\n",
      "2021-11-21 10:15:59    58.514\n",
      "Length: 16294, dtype: float64\n"
     ]
    }
   ],
   "source": [
    "\n",
    "audio_data = pd.Series(dtype=float)\n",
    "\n",
    "audio_data = pd.read_csv(\"puryear_audio.csv\")\n",
    "\n",
    "# idea for repeating values, find the daily average\n",
    "\n",
    "audio_data_cleaned = pd.Series(dtype=float)\n",
    "\n",
    "for i in range(len(audio_data)):\n",
    "    audio_data_date_string = audio_data.iloc[i][\"Date\"]\n",
    "    cropped_audio_date_string = audio_data_date_string[0:19]\n",
    "    audio_data_cleaned[cropped_audio_date_string] =  audio_data.iloc[i][\"Headphone sound levels(dBASPL)\"]\n",
    "\n",
    "audio_data_cleaned.to_csv()\n",
    "print(audio_data_cleaned)"
   ]
  },
  {
   "cell_type": "markdown",
   "metadata": {},
   "source": [
    "Just to save time because that took a while I exported it to a new csv file"
   ]
  },
  {
   "cell_type": "code",
   "execution_count": 68,
   "metadata": {},
   "outputs": [],
   "source": [
    "audio_data_cleaned.to_csv(\"temporary_audio.csv\")"
   ]
  },
  {
   "cell_type": "markdown",
   "metadata": {},
   "source": [
    "## Combining the dates of the audio"
   ]
  },
  {
   "cell_type": "code",
   "execution_count": 89,
   "metadata": {},
   "outputs": [],
   "source": [
    "audio_data_cleaned = pd.read_csv(\"temporary_audio.csv\")\n",
    "audio_data_cleaned_again = pd.Series(dtype=float)\n",
    "\n",
    "# finding the average of the daily values\n",
    "sum = 1\n",
    "amount = audio_data_cleaned.iloc[0][1]\n",
    "audio_data_cleaned_prev_date = audio_data_cleaned.iloc[0][0][0:10]\n",
    "\n",
    "# yes this works!\n",
    "for i in range(1,len(audio_data_cleaned)):\n",
    "    audio_data_cleaned_date = audio_data_cleaned.iloc[i][0][0:10]\n",
    "    if audio_data_cleaned_date == audio_data_cleaned_prev_date: # if this date is the same as the day before do this\n",
    "        sum = sum + 1\n",
    "        amount = amount + audio_data_cleaned.iloc[i][1]\n",
    "    else: # otherwise reset all the values and continue\n",
    "        sum = 1\n",
    "        amount = audio_data_cleaned.iloc[i][1]\n",
    "        audio_data_cleaned_prev_date = audio_data_cleaned.iloc[i][0][0:10]\n",
    "        audio_data_cleaned_again[audio_data_cleaned_date] = (amount / sum)\n",
    "\n",
    "    \n",
    "    \n"
   ]
  },
  {
   "cell_type": "code",
   "execution_count": 90,
   "metadata": {},
   "outputs": [
    {
     "name": "stdout",
     "output_type": "stream",
     "text": [
      "2020-11-22    66.064\n",
      "2020-11-23    61.650\n",
      "2020-11-24    54.927\n",
      "2020-11-25    57.506\n",
      "2020-11-26    39.405\n",
      "               ...  \n",
      "2021-11-17    65.809\n",
      "2021-11-18    62.816\n",
      "2021-11-19    57.094\n",
      "2021-11-20    59.618\n",
      "2021-11-21    60.938\n",
      "Length: 363, dtype: float64\n"
     ]
    }
   ],
   "source": [
    "print(audio_data_cleaned_again)"
   ]
  },
  {
   "cell_type": "code",
   "execution_count": 95,
   "metadata": {},
   "outputs": [
    {
     "data": {
      "text/plain": [
       "<BarContainer object of 363 artists>"
      ]
     },
     "execution_count": 95,
     "metadata": {},
     "output_type": "execute_result"
    },
    {
     "data": {
      "image/png": "[encoded data removed]",
      "text/plain": [
       "<Figure size 432x288 with 1 Axes>"
      ]
     },
     "metadata": {
      "needs_background": "light"
     },
     "output_type": "display_data"
    }
   ],
   "source": [
    "# for fun lets graph it\n",
    "plt.bar(audio_data_cleaned_again.index, audio_data_cleaned_again)"
   ]
  },
  {
   "cell_type": "markdown",
   "metadata": {},
   "source": [
    "### I decided to make a function that combines the days"
   ]
  },
  {
   "cell_type": "code",
   "execution_count": 105,
   "metadata": {},
   "outputs": [],
   "source": [
    "def combine_days_in_ser(original_series):\n",
    "    # finding the average of the daily values\n",
    "    sum = 1\n",
    "    amount = original_series.iloc[0][1]\n",
    "    prev_date = original_series.iloc[0][0][0:10]\n",
    "\n",
    "    cleaned_series = pd.Series(dtype=float)\n",
    "\n",
    "    # yes this works!\n",
    "    for i in range(1,len(audio_data_cleaned)):\n",
    "        original_series_date = original_series.iloc[i][0][0:10]\n",
    "        if original_series_date == prev_date: # if this date is the same as the day before do this\n",
    "            sum = sum + 1\n",
    "            amount = amount + original_series.iloc[i][1]\n",
    "        else: # otherwise reset all the values and continue\n",
    "            sum = 1\n",
    "            amount = original_series.iloc[i][1]\n",
    "            prev_date = audio_data_cleaned.iloc[i][0][0:10]\n",
    "            cleaned_series[original_series_date] = amount\n",
    "\n",
    "    return cleaned_series"
   ]
  },
  {
   "cell_type": "markdown",
   "metadata": {},
   "source": [
    "# Sleep"
   ]
  },
  {
   "cell_type": "markdown",
   "metadata": {},
   "source": [
    "Format = `%YYYY-%MM-%DD %HH:%MM:%%SS - %YYYY-%MM-%DD %HH:%MM:%%SS,%DB_Val`"
   ]
  },
  {
   "cell_type": "code",
   "execution_count": 133,
   "metadata": {},
   "outputs": [
    {
     "name": "stdout",
     "output_type": "stream",
     "text": [
      "2020-11-21 01:22:35    6.314\n",
      "2020-11-23 01:37:06    6.531\n",
      "2020-11-24 03:11:00    4.332\n",
      "2020-11-25 01:00:31    6.544\n",
      "2020-11-26 00:48:07    8.158\n",
      "                       ...  \n",
      "2021-11-18 00:00:00    4.149\n",
      "2021-11-18 04:20:48    2.661\n",
      "2021-11-19 00:00:00    7.006\n",
      "2021-11-20 02:08:53    4.853\n",
      "2021-11-21 00:00:00    6.994\n",
      "Length: 375, dtype: float64\n"
     ]
    }
   ],
   "source": [
    "sleep_data = pd.Series(dtype=float)\n",
    "\n",
    "sleep_data = pd.read_csv(\"puryear_in_bed.csv\")\n",
    "\n",
    "# i notice how whenever there is a super small one, its always after a longer one.\n",
    "# my theory is that that is when i actually pick up my phone first, but then i put it down.\n",
    "# maybe i hit snooze\n",
    "\n",
    "# first thing i am going to do is see if i can get the first value before the -, i feel like the stuff after the dash is not needed since we will have the value\n",
    "\n",
    "# print(sleep_data)\n",
    "\n",
    "sleep_data_cleaned = pd.Series(dtype=float)\n",
    "# print(sleep_data)\n",
    "\n",
    "for i in range(len(sleep_data)):\n",
    "    current_date_string = sleep_data.iloc[i][\"Date\"]\n",
    "    cropped_date_string = current_date_string[0:19]\n",
    "    sleep_data_cleaned[cropped_date_string] =  sleep_data.iloc[i][\"Time in bed(hr)\"]\n",
    "\n",
    "# i am just going to drop the time if it is less than 0.5 hours (half an hour)\n",
    "sleep_data_cleaned = sleep_data_cleaned[sleep_data_cleaned>0.5]\n",
    "\n",
    "# this will also make it possible for me to have all nighters when in reality i didnt\n",
    "# i also specifically remember times where it said that i pulled all nighters when i just fell asleep with youtube playing\n",
    "\n",
    "# idea\n",
    "# combine all values that have the same day\n",
    "    # issue, if i went to bed at 2am on a certain day, then went to bed at 11pm that same day. Then we have a problem\n",
    "\n",
    "print(sleep_data_cleaned)"
   ]
  },
  {
   "cell_type": "code",
   "execution_count": 108,
   "metadata": {},
   "outputs": [
    {
     "ename": "IndexError",
     "evalue": "invalid index to scalar variable.",
     "output_type": "error",
     "traceback": [
      "\u001b[1;31m---------------------------------------------------------------------------\u001b[0m",
      "\u001b[1;31mIndexError\u001b[0m                                Traceback (most recent call last)",
      "\u001b[1;32m~\\AppData\\Local\\Temp/ipykernel_13764/4114942992.py\u001b[0m in \u001b[0;36m<module>\u001b[1;34m\u001b[0m\n\u001b[1;32m----> 1\u001b[1;33m \u001b[0mprint\u001b[0m\u001b[1;33m(\u001b[0m\u001b[0mcombine_days_in_ser\u001b[0m\u001b[1;33m(\u001b[0m\u001b[0msleep_data_cleaned\u001b[0m\u001b[1;33m)\u001b[0m\u001b[1;33m)\u001b[0m\u001b[1;33m\u001b[0m\u001b[1;33m\u001b[0m\u001b[0m\n\u001b[0m",
      "\u001b[1;32m~\\AppData\\Local\\Temp/ipykernel_13764/1213476039.py\u001b[0m in \u001b[0;36mcombine_days_in_ser\u001b[1;34m(original_series)\u001b[0m\n\u001b[0;32m      2\u001b[0m     \u001b[1;31m# finding the average of the daily values\u001b[0m\u001b[1;33m\u001b[0m\u001b[1;33m\u001b[0m\u001b[1;33m\u001b[0m\u001b[0m\n\u001b[0;32m      3\u001b[0m     \u001b[0msum\u001b[0m \u001b[1;33m=\u001b[0m \u001b[1;36m1\u001b[0m\u001b[1;33m\u001b[0m\u001b[1;33m\u001b[0m\u001b[0m\n\u001b[1;32m----> 4\u001b[1;33m     \u001b[0mamount\u001b[0m \u001b[1;33m=\u001b[0m \u001b[0moriginal_series\u001b[0m\u001b[1;33m.\u001b[0m\u001b[0miloc\u001b[0m\u001b[1;33m[\u001b[0m\u001b[1;36m0\u001b[0m\u001b[1;33m]\u001b[0m\u001b[1;33m[\u001b[0m\u001b[1;36m1\u001b[0m\u001b[1;33m]\u001b[0m\u001b[1;33m\u001b[0m\u001b[1;33m\u001b[0m\u001b[0m\n\u001b[0m\u001b[0;32m      5\u001b[0m     \u001b[0mprev_date\u001b[0m \u001b[1;33m=\u001b[0m \u001b[0moriginal_series\u001b[0m\u001b[1;33m.\u001b[0m\u001b[0miloc\u001b[0m\u001b[1;33m[\u001b[0m\u001b[1;36m0\u001b[0m\u001b[1;33m]\u001b[0m\u001b[1;33m[\u001b[0m\u001b[1;36m0\u001b[0m\u001b[1;33m]\u001b[0m\u001b[1;33m[\u001b[0m\u001b[1;36m0\u001b[0m\u001b[1;33m:\u001b[0m\u001b[1;36m10\u001b[0m\u001b[1;33m]\u001b[0m\u001b[1;33m\u001b[0m\u001b[1;33m\u001b[0m\u001b[0m\n\u001b[0;32m      6\u001b[0m \u001b[1;33m\u001b[0m\u001b[0m\n",
      "\u001b[1;31mIndexError\u001b[0m: invalid index to scalar variable."
     ]
    }
   ],
   "source": [
    "print(combine_days_in_ser(sleep_data_cleaned))"
   ]
  }
 ],
 "metadata": {
  "interpreter": {
   "hash": "42f2e04143d7207fe24b7231a7967b30a58f6a4af2031ceb790690a1f6850973"
  },
  "kernelspec": {
   "display_name": "Python 3.7.11 64-bit ('base': conda)",
   "name": "python3"
  },
  "language_info": {
   "codemirror_mode": {
    "name": "ipython",
    "version": 3
   },
   "file_extension": ".py",
   "mimetype": "text/x-python",
   "name": "python",
   "nbconvert_exporter": "python",
   "pygments_lexer": "ipython3",
   "version": "3.7.11"
  },
  "orig_nbformat": 4
 },
 "nbformat": 4,
 "nbformat_minor": 2
}
