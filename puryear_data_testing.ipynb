{
 "cells": [
  {
   "cell_type": "markdown",
   "metadata": {},
   "source": [
    "# Hypothesis\n",
    "DONT FORGET TO WORK ON THE SLEEP TIME STUFF"
   ]
  },
  {
   "cell_type": "markdown",
   "metadata": {},
   "source": [
    "### Null Hypothesis\n",
    "There is no coorilation between the steps I take, the \n",
    "\n",
    "* $H_0$ has always the equal sign\n",
    "    * E.g. $H_0: \\mu \\geq 20$\n",
    "    * E.g. $H_0: \\mu \\leq 20$"
   ]
  },
  {
   "cell_type": "code",
   "execution_count": 1,
   "metadata": {},
   "outputs": [],
   "source": [
    "import matplotlib.pyplot as plt\n",
    "import numpy as np\n",
    "import pandas as pd\n",
    "import scipy.stats as stats\n",
    "import math"
   ]
  },
  {
   "cell_type": "code",
   "execution_count": 2,
   "metadata": {},
   "outputs": [],
   "source": [
    "movement_data = pd.DataFrame(dtype=float)\n",
    "movement_data = pd.read_csv(\"data/cleaned_puryear_movement.csv\",index_col=0)\n",
    "\n",
    "audio_data = pd.DataFrame(dtype=float)\n",
    "audio_data = pd.read_csv(\"data/cleaned_puryear_audio.csv\",index_col=0)\n",
    "# audio_data.columns = [\"Date\",\"Headphone sound levels(dBASPL)\"]\n",
    "\n",
    "sleep_data = pd.DataFrame(dtype=float)\n",
    "sleep_data = pd.read_csv(\"data/cleaned_puryear_sleep.csv\",index_col=0)\n",
    "# sleep_data.columns = [\"Date\",\"Time in bed(hr)\"]"
   ]
  },
  {
   "cell_type": "markdown",
   "metadata": {},
   "source": [
    "# Combine all 3 dataframes "
   ]
  },
  {
   "cell_type": "code",
   "execution_count": 3,
   "metadata": {},
   "outputs": [],
   "source": [
    "sleep_and_audio_data = pd.merge(sleep_data,audio_data,on=\"Date\")\n",
    "all_data = pd.merge(sleep_and_audio_data,movement_data, on=\"Date\")"
   ]
  },
  {
   "cell_type": "markdown",
   "metadata": {},
   "source": [
    "### What is a t-test?\n",
    "* A t-test is a statistical way to determine if two or more datasets are related to each other in some way\n",
    "### Why are we doing a t-test?\n",
    "* We are using a t-test in order to see if there is a coorelation between the values of the headphone usage, the amount i sleep, and the movement data\n",
    "### How do you do a t-test?\n",
    "* A common way is by using the hypothesis based method\n",
    "\n",
    "Below you will see Dr. Sprints \"5 Step Hypothesis Testing Approach\"\n",
    "## 5 Step Hypothesis Testing Approach\n",
    "1. State null and alternative hypothesis\n",
    "2. State the level of significance\n",
    "3. Select the appropriate test statistic\n",
    "4. Formulate the decision rule\n",
    "5. Make a decision\n",
    "\n",
    "# Question:\n",
    "The subject has exported his iPhones movement data, as well as his sleep and headphone volume data. Using a level of significance of 0.05, is there any coorelation between the three datasets? If so, which?\n",
    "\n",
    "### Hypithesis\n",
    "\n",
    "* $H_0: \\mu  = $\n",
    "* We will be using a two-tailed test, because the alternative hypothesis does not have any direction. It just states that there is a difference in trend between the different datasets.\n",
    "\n",
    "\n",
    "\n",
    "### 1. State Null and Alternative Hypothesis\n",
    "Null Hypothesis ($H_0$): A tentative **assumption** made about a population parameter, set up in a way to accept or reject it.\n",
    "* $H_0$ has always the equal sign\n",
    "    * E.g. $H_0: \\mu \\geq 20$\n",
    "    * E.g. $H_0: \\mu \\leq 20$\n",
    "* We cannot say that $H_0$ is true, only that we accept it or reject it (false)\n",
    "\n",
    "Alternative Hypothesis ($H_1$): A statement that will be accepted **if** the Null Hypothesis is false (or rejected)\n",
    "\n",
    "To help formulate your null and alternative hypothesis, ask if there is there a direction given?\n",
    "* One-tailed test: when the alternative hypothesis ($H_1$) states a direction\n",
    "    * Left tail: e.g. $H_1: \\mu < 20$\n",
    "    * Right tail: e.g. $H_1: \\mu > 20$\n",
    "* Two-tailed test: when the alternative hypothesis ($H_1$) does not state a direction\n",
    "    * E.g. $H_1: \\mu \\neq 20$\n",
    "\n"
   ]
  }
 ],
 "metadata": {
  "interpreter": {
   "hash": "42f2e04143d7207fe24b7231a7967b30a58f6a4af2031ceb790690a1f6850973"
  },
  "kernelspec": {
   "display_name": "Python 3.7.11 64-bit ('base': conda)",
   "name": "python3"
  },
  "language_info": {
   "codemirror_mode": {
    "name": "ipython",
    "version": 3
   },
   "file_extension": ".py",
   "mimetype": "text/x-python",
   "name": "python",
   "nbconvert_exporter": "python",
   "pygments_lexer": "ipython3",
   "version": "3.7.11"
  },
  "orig_nbformat": 4
 },
 "nbformat": 4,
 "nbformat_minor": 2
}
