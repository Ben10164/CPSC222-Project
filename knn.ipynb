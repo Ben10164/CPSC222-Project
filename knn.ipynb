{
 "cells": [
  {
   "cell_type": "code",
   "execution_count": 1,
   "metadata": {},
   "outputs": [],
   "source": [
    "import matplotlib.pyplot as plt\n",
    "import numpy as np\n",
    "import pandas as pd\n",
    "import scipy.stats as stats\n",
    "from sklearn.preprocessing import MinMaxScaler\n",
    "from sklearn.neighbors import KNeighborsClassifier\n",
    "\n",
    "# This is for the plots not being cut off\n",
    "from matplotlib import rcParams\n",
    "rcParams.update({'figure.autolayout': True})\n",
    "\n"
   ]
  },
  {
   "cell_type": "markdown",
   "metadata": {},
   "source": [
    "### Make a Prediction with Scikit-Learn\n",
    "Steps:\n",
    "1. Load data\n",
    "1. Normalize\n",
    "1. Train kNN classifier with training set\n",
    "1. Test kNN classifier on test instance"
   ]
  },
  {
   "cell_type": "code",
   "execution_count": 2,
   "metadata": {},
   "outputs": [
    {
     "name": "stdout",
     "output_type": "stream",
     "text": [
      "['Good']\n",
      "['Bad']\n"
     ]
    }
   ],
   "source": [
    "def predict(df, predicting_attribute, test_data ):\n",
    "    X_train = df.drop(predicting_attribute,axis=1)\n",
    "    y_train = df[predicting_attribute]\n",
    "\n",
    "    scaler = MinMaxScaler()\n",
    "    scaler.fit(X_train)\n",
    "    X_train_normalized = scaler.transform(X_train) # often combined into one step, using fit_transform()\n",
    "\n",
    "\n",
    "    neigh = KNeighborsClassifier(n_neighbors=3)\n",
    "    neigh.fit(X_train_normalized, y_train)\n",
    "\n",
    "    X_test = pd.Series(test_data, index=df.columns.drop(predicting_attribute))\n",
    "    X_test = scaler.transform([X_test])\n",
    "    y_test_prediction = neigh.predict(X_test)\n",
    "\n",
    "    return(y_test_prediction)\n",
    "\n",
    "data = [[7, 7, \"Bad\"], [7, 4, \"Bad\"], [3, 4, \"Good\"], [1, 4, \"Good\"]]\n",
    "df = pd.DataFrame(data, columns=[\"Acid durability (seconds)\", \"Strength (kg/square meter)\", \"Classification\"])\n",
    "\n",
    "result1 = predict(df, \"Classification\",pd.Series([1,7], index=df.columns.drop(\"Classification\")))\n",
    "result2 = predict(df, \"Classification\",pd.Series([9,7], index=df.columns.drop(\"Classification\")))\n",
    "\n",
    "print(result1)\n",
    "print(result2)"
   ]
  },
  {
   "cell_type": "code",
   "execution_count": 3,
   "metadata": {},
   "outputs": [],
   "source": [
    "# return the date of the week of a given date in the format of 'YYYY-MM-DD'\n",
    "def get_weekday(date):\n",
    "    return pd.to_datetime(date).strftime('%A')\n",
    "\n",
    "audio_df = pd.read_csv(\"data/cleaned_puryear_audio.csv\",index_col=0)\n",
    "movement_df = pd.read_csv(\"data/cleaned_puryear_movement.csv\",index_col=0)\n",
    "sleep_df = pd.read_csv(\"data/cleaned_puryear_sleep.csv\",index_col=0)"
   ]
  },
  {
   "cell_type": "code",
   "execution_count": 4,
   "metadata": {},
   "outputs": [
    {
     "name": "stdout",
     "output_type": "stream",
     "text": [
      "            Headphone sound levels(dBASPL)    Weekday\n",
      "Date                                                 \n",
      "2020-11-22                          66.064     Sunday\n",
      "2020-11-23                          61.650     Monday\n",
      "2020-11-24                          54.927    Tuesday\n",
      "2020-11-25                          57.506  Wednesday\n",
      "2020-11-26                          39.405   Thursday\n",
      "...                                    ...        ...\n",
      "2021-11-17                          65.809  Wednesday\n",
      "2021-11-18                          62.816   Thursday\n",
      "2021-11-19                          57.094     Friday\n",
      "2021-11-20                          59.618   Saturday\n",
      "2021-11-21                          60.938     Sunday\n",
      "\n",
      "[363 rows x 2 columns]\n"
     ]
    }
   ],
   "source": [
    "def return_dataframe_with_weekday(df):\n",
    "    df = df.reset_index()\n",
    "    weekday_df = pd.DataFrame()\n",
    "    weekday_df['Weekday'] = df['Date'].apply(get_weekday)\n",
    "    df = df.join(weekday_df)\n",
    "    df.set_index(\"Date\",inplace=True)\n",
    "\n",
    "    return df\n",
    "\n",
    "weekday_audio_df = return_dataframe_with_weekday(audio_df)\n",
    "weekday_movement_df = return_dataframe_with_weekday(movement_df)\n",
    "weekday_sleep_df = return_dataframe_with_weekday(sleep_df)\n",
    "print(weekday_audio_df)\n"
   ]
  },
  {
   "cell_type": "code",
   "execution_count": 5,
   "metadata": {},
   "outputs": [
    {
     "name": "stdout",
     "output_type": "stream",
     "text": [
      "0.45179063360881544\n"
     ]
    }
   ],
   "source": [
    "total = 0\n",
    "correct = 0\n",
    "for i in weekday_audio_df.index:\n",
    "    result = predict(weekday_audio_df, \"Weekday\",pd.Series(weekday_audio_df[\"Headphone sound levels(dBASPL)\"][i], index=weekday_audio_df.columns.drop(\"Weekday\")))\n",
    "    if(result == weekday_audio_df[\"Weekday\"][i]):\n",
    "        correct += 1\n",
    "    total += 1\n",
    "\n",
    "print(correct / total)\n"
   ]
  },
  {
   "cell_type": "code",
   "execution_count": 6,
   "metadata": {},
   "outputs": [
    {
     "name": "stdout",
     "output_type": "stream",
     "text": [
      "0.49169435215946844\n"
     ]
    }
   ],
   "source": [
    "total = 0\n",
    "correct = 0\n",
    "for i in weekday_sleep_df.index:\n",
    "    result = predict(weekday_sleep_df, \"Weekday\",pd.Series(weekday_sleep_df[\"Time in bed(hr)\"][i], index=weekday_sleep_df.columns.drop(\"Weekday\")))\n",
    "    if(result == weekday_sleep_df[\"Weekday\"][i]):\n",
    "        correct += 1\n",
    "    total += 1\n",
    "\n",
    "print(correct / total)"
   ]
  }
 ],
 "metadata": {
  "interpreter": {
   "hash": "729773df16d072ab37a980d81819936d07965ff9a3219d05c4171321c972e259"
  },
  "kernelspec": {
   "display_name": "Python 3.9.7 64-bit ('base': conda)",
   "language": "python",
   "name": "python3"
  },
  "language_info": {
   "codemirror_mode": {
    "name": "ipython",
    "version": 3
   },
   "file_extension": ".py",
   "mimetype": "text/x-python",
   "name": "python",
   "nbconvert_exporter": "python",
   "pygments_lexer": "ipython3",
   "version": "3.9.7"
  },
  "orig_nbformat": 4
 },
 "nbformat": 4,
 "nbformat_minor": 2
}
