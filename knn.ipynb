{
 "cells": [
  {
   "cell_type": "code",
   "execution_count": 1,
   "metadata": {},
   "outputs": [],
   "source": [
    "import matplotlib.pyplot as plt\n",
    "import numpy as np\n",
    "import pandas as pd\n",
    "import scipy.stats as stats\n",
    "from sklearn.preprocessing import MinMaxScaler\n",
    "from sklearn.neighbors import KNeighborsClassifier\n",
    "\n",
    "# This is for the plots not being cut off\n",
    "from matplotlib import rcParams\n",
    "rcParams.update({'figure.autolayout': True})\n",
    "\n"
   ]
  },
  {
   "cell_type": "markdown",
   "metadata": {},
   "source": [
    "### Make a Prediction with Scikit-Learn\n",
    "Steps:\n",
    "1. Load data\n",
    "1. Normalize\n",
    "1. Train kNN classifier with training set\n",
    "1. Test kNN classifier on test instance"
   ]
  },
  {
   "cell_type": "code",
   "execution_count": 2,
   "metadata": {},
   "outputs": [],
   "source": [
    "def predict(df, predicting_attribute, test_data ):\n",
    "    X_train = df.drop(predicting_attribute,axis=1)\n",
    "    y_train = df[predicting_attribute]\n",
    "\n",
    "    scaler = MinMaxScaler()\n",
    "    scaler.fit(X_train)\n",
    "    X_train_normalized = scaler.transform(X_train) # often combined into one step, using fit_transform()\n",
    "\n",
    "\n",
    "    neigh = KNeighborsClassifier(n_neighbors=3)\n",
    "    neigh.fit(X_train_normalized, y_train)\n",
    "\n",
    "    X_test = pd.Series(test_data, index=df.columns.drop(predicting_attribute))\n",
    "    X_test = scaler.transform([X_test])\n",
    "    y_test_prediction = neigh.predict(X_test)\n",
    "\n",
    "    return(y_test_prediction)"
   ]
  },
  {
   "cell_type": "code",
   "execution_count": 3,
   "metadata": {},
   "outputs": [],
   "source": [
    "# return the date of the week of a given date in the format of 'YYYY-MM-DD'\n",
    "def get_weekday(date):\n",
    "    return pd.to_datetime(date).strftime('%A')\n",
    "\n",
    "audio_df = pd.read_csv(\"data/cleaned_puryear_audio.csv\",index_col=0)\n",
    "movement_df = pd.read_csv(\"data/cleaned_puryear_movement.csv\",index_col=0)\n",
    "sleep_df = pd.read_csv(\"data/cleaned_puryear_sleep.csv\",index_col=0)"
   ]
  },
  {
   "cell_type": "code",
   "execution_count": 4,
   "metadata": {},
   "outputs": [],
   "source": [
    "def return_dataframe_with_weekday(df):\n",
    "    df = df.reset_index()\n",
    "    weekday_df = pd.DataFrame()\n",
    "    weekday_df['Weekday'] = df['Date'].apply(get_weekday)\n",
    "    df = df.join(weekday_df)\n",
    "    df.set_index(\"Date\",inplace=True)\n",
    "\n",
    "    return df\n",
    "\n",
    "weekday_audio_df = return_dataframe_with_weekday(audio_df)\n",
    "weekday_movement_df = return_dataframe_with_weekday(movement_df)\n",
    "weekday_sleep_df = return_dataframe_with_weekday(sleep_df)\n"
   ]
  },
  {
   "cell_type": "markdown",
   "metadata": {},
   "source": [
    "### Objective of kNN\n",
    "* My goal for the main kNN function is to predict the day of the week when given all the data"
   ]
  },
  {
   "cell_type": "code",
   "execution_count": 5,
   "metadata": {},
   "outputs": [],
   "source": [
    "sleep_and_audio_data = pd.merge(sleep_df,audio_df,on=\"Date\")\n",
    "all_data = pd.merge(sleep_and_audio_data,weekday_movement_df, on=\"Date\")"
   ]
  },
  {
   "cell_type": "code",
   "execution_count": 6,
   "metadata": {},
   "outputs": [],
   "source": [
    "def get_weekend_yes_no_df(df):\n",
    "    df.replace(\"Monday\",\"Weekday\",inplace=True)\n",
    "    df.replace(\"Tuesday\",\"Weekday\",inplace=True)\n",
    "    df.replace(\"Wednesday\",\"Weekday\",inplace=True)\n",
    "    df.replace(\"Thursday\",\"Weekday\",inplace=True)\n",
    "    df.replace(\"Friday\",\"Weekday\",inplace=True)\n",
    "    df.replace(\"Saturday\",\"Weekend\",inplace=True)\n",
    "    df.replace(\"Sunday\",\"Weekend\",inplace=True)\n",
    "\n",
    "    return df"
   ]
  },
  {
   "cell_type": "code",
   "execution_count": 7,
   "metadata": {},
   "outputs": [
    {
     "name": "stdout",
     "output_type": "stream",
     "text": [
      "Date\n",
      "2020-11-22    Weekend\n",
      "2020-11-23    Weekday\n",
      "2020-11-24    Weekday\n",
      "2020-11-25    Weekday\n",
      "2020-11-26    Weekday\n",
      "               ...   \n",
      "2021-11-17    Weekday\n",
      "2021-11-18    Weekday\n",
      "2021-11-19    Weekday\n",
      "2021-11-20    Weekend\n",
      "2021-11-21    Weekend\n",
      "Name: Weekday, Length: 338, dtype: object\n"
     ]
    }
   ],
   "source": [
    "all_data = get_weekend_yes_no_df(all_data)\n",
    "print(all_data[\"Weekday\"])"
   ]
  },
  {
   "cell_type": "code",
   "execution_count": 8,
   "metadata": {},
   "outputs": [],
   "source": [
    "from sklearn.model_selection import train_test_split\n",
    "from sklearn.metrics import accuracy_score\n",
    "\n",
    "X = all_data.drop(columns=\"Weekday\",axis=1)\n",
    "y = all_data[\"Weekday\"]\n",
    "\n",
    "scaler= MinMaxScaler()\n",
    "X = scaler.fit_transform(X)\n",
    "\n",
    "X_train, X_test, y_train, y_test = train_test_split(X,y, random_state=0,stratify=y)"
   ]
  },
  {
   "cell_type": "code",
   "execution_count": 9,
   "metadata": {},
   "outputs": [
    {
     "name": "stdout",
     "output_type": "stream",
     "text": [
      "The best accuracy was 0.7411764705882353 with an n-val of 27\n"
     ]
    }
   ],
   "source": [
    "# This block will calculate the kNN classifier for each n_neighbors between 1 and 224 and see which is the best\n",
    "best_n = 0\n",
    "best_n_val = 0\n",
    "for i in range(1,224):\n",
    "    knn_clf = KNeighborsClassifier(n_neighbors=i, metric=\"euclidean\")\n",
    "    knn_clf.fit(X_train,y_train)\n",
    "    y_predicted = knn_clf.predict(X_test)\n",
    "    accuracy = accuracy_score(y_test, y_predicted)\n",
    "\n",
    "    if accuracy > best_n_val:\n",
    "        best_n = i\n",
    "        best_n_val = accuracy\n",
    "\n",
    "print(\"The best accuracy was\", best_n_val,\"with an n-val of\",best_n)"
   ]
  },
  {
   "cell_type": "markdown",
   "metadata": {},
   "source": [
    "### Lets make it a function"
   ]
  },
  {
   "cell_type": "code",
   "execution_count": 10,
   "metadata": {},
   "outputs": [],
   "source": [
    "def get_kNN_prediction_accuracy(df,column):\n",
    "    X = df.drop(columns=column,axis=1)\n",
    "    y = df[column]\n",
    "\n",
    "    scaler= MinMaxScaler()\n",
    "    X = scaler.fit_transform(X)\n",
    "\n",
    "    X_train, X_test, y_train, y_test = train_test_split(X,y, random_state=0,stratify=y)\n",
    "\n",
    "    # This block will calculate the kNN classifier for each n_neighbors between 1 and 224 and see which is the best\n",
    "    best_n = 0\n",
    "    best_n_val = 0\n",
    "    for i in range(1,224):\n",
    "        knn_clf = KNeighborsClassifier(n_neighbors=i, metric=\"euclidean\")\n",
    "        knn_clf.fit(X_train,y_train)\n",
    "        y_predicted = knn_clf.predict(X_test)\n",
    "        accuracy = accuracy_score(y_test, y_predicted)\n",
    "\n",
    "        if accuracy > best_n_val:\n",
    "            best_n = i\n",
    "            best_n_val = accuracy\n",
    "            \n",
    "    return best_n_val, best_n"
   ]
  },
  {
   "cell_type": "code",
   "execution_count": 11,
   "metadata": {},
   "outputs": [
    {
     "name": "stdout",
     "output_type": "stream",
     "text": [
      "The accuracy of the kNN for audio was 0.7252747252747253 when the n_neighbors was 33\n",
      "The accuracy of the kNN for sleep was 0.7176470588235294 when the n_neighbors was 7\n",
      "The accuracy of the kNN for movement was 0.7391304347826086 when the n_neighbors was 9\n"
     ]
    }
   ],
   "source": [
    "audio_accuracy, audio_n = get_kNN_prediction_accuracy(get_weekend_yes_no_df(weekday_audio_df),\"Weekday\")\n",
    "print(\"The accuracy of the kNN for audio was\",audio_accuracy,\"when the n_neighbors was\",audio_n)\n",
    "\n",
    "sleep_accuracy, sleep_n = get_kNN_prediction_accuracy(get_weekend_yes_no_df(weekday_sleep_df),\"Weekday\")\n",
    "print(\"The accuracy of the kNN for sleep was\",sleep_accuracy,\"when the n_neighbors was\",sleep_n)\n",
    "\n",
    "movement_accuracy, movement_n = get_kNN_prediction_accuracy(get_weekend_yes_no_df(weekday_movement_df),\"Weekday\")\n",
    "print(\"The accuracy of the kNN for movement was\",movement_accuracy,\"when the n_neighbors was\",movement_n)"
   ]
  },
  {
   "cell_type": "markdown",
   "metadata": {},
   "source": [
    "## Results of kNN\n",
    "* Based on the results we can see that there is a slight corelation between the data and if it is the weekend or not!\n",
    "    * There is an accuracy of 0.74 on predicting if the data is on a weekday or weekend\n",
    "* We can also see that sleep/movement and the day of the week are slightly correlated as well\n"
   ]
  }
 ],
 "metadata": {
  "interpreter": {
   "hash": "729773df16d072ab37a980d81819936d07965ff9a3219d05c4171321c972e259"
  },
  "kernelspec": {
   "display_name": "Python 3.9.7 64-bit ('base': conda)",
   "language": "python",
   "name": "python3"
  },
  "language_info": {
   "codemirror_mode": {
    "name": "ipython",
    "version": 3
   },
   "file_extension": ".py",
   "mimetype": "text/x-python",
   "name": "python",
   "nbconvert_exporter": "python",
   "pygments_lexer": "ipython3",
   "version": "3.9.7"
  },
  "orig_nbformat": 4
 },
 "nbformat": 4,
 "nbformat_minor": 2
}
