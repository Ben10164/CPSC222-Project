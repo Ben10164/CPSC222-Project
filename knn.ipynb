{
 "cells": [
  {
   "cell_type": "code",
   "execution_count": 22,
   "metadata": {},
   "outputs": [],
   "source": [
    "import matplotlib.pyplot as plt\n",
    "import numpy as np\n",
    "import pandas as pd\n",
    "import scipy.stats as stats\n",
    "from sklearn.preprocessing import MinMaxScaler\n",
    "from sklearn.neighbors import KNeighborsClassifier\n",
    "\n",
    "# This is for the plots not being cut off\n",
    "from matplotlib import rcParams\n",
    "rcParams.update({'figure.autolayout': True})\n",
    "\n"
   ]
  },
  {
   "cell_type": "markdown",
   "metadata": {},
   "source": [
    "### Make a Prediction with Scikit-Learn\n",
    "Steps:\n",
    "1. Load data\n",
    "1. Normalize\n",
    "1. Train kNN classifier with training set\n",
    "1. Test kNN classifier on test instance"
   ]
  },
  {
   "cell_type": "code",
   "execution_count": 23,
   "metadata": {},
   "outputs": [],
   "source": [
    "def predict(df, predicting_attribute, test_data ):\n",
    "    X_train = df.drop(predicting_attribute,axis=1)\n",
    "    y_train = df[predicting_attribute]\n",
    "\n",
    "    scaler = MinMaxScaler()\n",
    "    scaler.fit(X_train)\n",
    "    X_train_normalized = scaler.transform(X_train) # often combined into one step, using fit_transform()\n",
    "\n",
    "\n",
    "    neigh = KNeighborsClassifier(n_neighbors=3)\n",
    "    neigh.fit(X_train_normalized, y_train)\n",
    "\n",
    "    X_test = pd.Series(test_data, index=df.columns.drop(predicting_attribute))\n",
    "    X_test = scaler.transform([X_test])\n",
    "    y_test_prediction = neigh.predict(X_test)\n",
    "\n",
    "    return(y_test_prediction)"
   ]
  },
  {
   "cell_type": "code",
   "execution_count": 24,
   "metadata": {},
   "outputs": [],
   "source": [
    "# return the date of the week of a given date in the format of 'YYYY-MM-DD'\n",
    "def get_weekday(date):\n",
    "    return pd.to_datetime(date).strftime('%A')\n",
    "\n",
    "audio_df = pd.read_csv(\"data/cleaned_puryear_audio.csv\",index_col=0)\n",
    "movement_df = pd.read_csv(\"data/cleaned_puryear_movement.csv\",index_col=0)\n",
    "sleep_df = pd.read_csv(\"data/cleaned_puryear_sleep.csv\",index_col=0)"
   ]
  },
  {
   "cell_type": "code",
   "execution_count": 25,
   "metadata": {},
   "outputs": [],
   "source": [
    "def return_dataframe_with_weekday(df):\n",
    "    df = df.reset_index()\n",
    "    weekday_df = pd.DataFrame()\n",
    "    weekday_df['Weekday'] = df['Date'].apply(get_weekday)\n",
    "    df = df.join(weekday_df)\n",
    "    df.set_index(\"Date\",inplace=True)\n",
    "\n",
    "    return df\n",
    "\n",
    "weekday_audio_df = return_dataframe_with_weekday(audio_df)\n",
    "weekday_movement_df = return_dataframe_with_weekday(movement_df)\n",
    "weekday_sleep_df = return_dataframe_with_weekday(sleep_df)\n"
   ]
  },
  {
   "cell_type": "markdown",
   "metadata": {},
   "source": [
    "### Objective of kNN\n",
    "* My goal for the main kNN function is to predict the day of the week when given all the data"
   ]
  },
  {
   "cell_type": "code",
   "execution_count": 26,
   "metadata": {},
   "outputs": [],
   "source": [
    "sleep_and_audio_data = pd.merge(sleep_df,audio_df,on=\"Date\")\n",
    "all_data = pd.merge(sleep_and_audio_data,weekday_movement_df, on=\"Date\")"
   ]
  },
  {
   "cell_type": "code",
   "execution_count": 27,
   "metadata": {},
   "outputs": [],
   "source": [
    "def get_weekend_yes_no_df(df):\n",
    "    new_df = df.reset_index()\n",
    "    for i in new_df.index:\n",
    "        if (new_df[\"Weekday\"][i] == \"Sunday\") or (new_df[\"Weekday\"][i] == \"Saturday\"):\n",
    "            new_df[\"Weekday\"][i] = \"Weekend\"\n",
    "        else:\n",
    "            new_df[\"Weekday\"][i] = \"Weekday\"\n",
    "    new_df.set_index(\"Date\",inplace=True)\n",
    "    return new_df"
   ]
  },
  {
   "cell_type": "code",
   "execution_count": 28,
   "metadata": {},
   "outputs": [
    {
     "name": "stderr",
     "output_type": "stream",
     "text": [
      "/var/folders/yn/tjtpgl194zq51k3yvb0v6y1c0000gn/T/ipykernel_81472/1886566137.py:7: SettingWithCopyWarning: \n",
      "A value is trying to be set on a copy of a slice from a DataFrame\n",
      "\n",
      "See the caveats in the documentation: https://pandas.pydata.org/pandas-docs/stable/user_guide/indexing.html#returning-a-view-versus-a-copy\n",
      "  new_df[\"Weekday\"][i] = \"Weekday\"\n",
      "/var/folders/yn/tjtpgl194zq51k3yvb0v6y1c0000gn/T/ipykernel_81472/1886566137.py:5: SettingWithCopyWarning: \n",
      "A value is trying to be set on a copy of a slice from a DataFrame\n",
      "\n",
      "See the caveats in the documentation: https://pandas.pydata.org/pandas-docs/stable/user_guide/indexing.html#returning-a-view-versus-a-copy\n",
      "  new_df[\"Weekday\"][i] = \"Weekend\"\n"
     ]
    }
   ],
   "source": [
    "all_data = get_weekend_yes_no_df(all_data)"
   ]
  },
  {
   "cell_type": "code",
   "execution_count": 29,
   "metadata": {},
   "outputs": [],
   "source": [
    "from sklearn.model_selection import train_test_split\n",
    "from sklearn.metrics import accuracy_score\n",
    "\n",
    "X = all_data.drop(columns=\"Weekday\",axis=1)\n",
    "y = all_data[\"Weekday\"]\n",
    "\n",
    "scaler= MinMaxScaler()\n",
    "X = scaler.fit_transform(X)\n",
    "\n",
    "X_train, X_test, y_train, y_test = train_test_split(X,y, random_state=0,stratify=y)"
   ]
  },
  {
   "cell_type": "code",
   "execution_count": 30,
   "metadata": {},
   "outputs": [
    {
     "name": "stdout",
     "output_type": "stream",
     "text": [
      "0.72\n"
     ]
    }
   ],
   "source": [
    "# This block will calculate the kNN classifier for each n_neighbors between 1 and 224 and see which is the best\n",
    "best_n = 0\n",
    "best_n_val = 0\n",
    "for i in range(1,224):\n",
    "    knn_clf = KNeighborsClassifier(n_neighbors=i, metric=\"euclidean\")\n",
    "    knn_clf.fit(X_train,y_train)\n",
    "    y_predicted = knn_clf.predict(X_test)\n",
    "    accuracy = accuracy_score(y_test, y_predicted)\n",
    "\n",
    "    if accuracy > best_n_val:\n",
    "        best_n = i\n",
    "        best_n_val = accuracy\n",
    "\n",
    "print(best_n_val) # result is 0.26666666666666666, which is slightly lower than 2/7"
   ]
  },
  {
   "cell_type": "markdown",
   "metadata": {},
   "source": [
    "### Lets make it a function"
   ]
  },
  {
   "cell_type": "code",
   "execution_count": 31,
   "metadata": {},
   "outputs": [],
   "source": [
    "def get_kNN_prediction_accuracy(df,column):\n",
    "    X = df.drop(columns=column,axis=1)\n",
    "    y = df[column]\n",
    "\n",
    "    scaler= MinMaxScaler()\n",
    "    X = scaler.fit_transform(X)\n",
    "\n",
    "    X_train, X_test, y_train, y_test = train_test_split(X,y, random_state=0,stratify=y)\n",
    "\n",
    "    # This block will calculate the kNN classifier for each n_neighbors between 1 and 224 and see which is the best\n",
    "    best_n = 0\n",
    "    best_n_val = 0\n",
    "    for i in range(1,224):\n",
    "        knn_clf = KNeighborsClassifier(n_neighbors=i, metric=\"euclidean\")\n",
    "        knn_clf.fit(X_train,y_train)\n",
    "        y_predicted = knn_clf.predict(X_test)\n",
    "        accuracy = accuracy_score(y_test, y_predicted)\n",
    "\n",
    "        if accuracy > best_n_val:\n",
    "            best_n = i\n",
    "            best_n_val = accuracy\n",
    "            \n",
    "    return best_n_val, best_n"
   ]
  },
  {
   "cell_type": "code",
   "execution_count": 32,
   "metadata": {},
   "outputs": [
    {
     "name": "stdout",
     "output_type": "stream",
     "text": [
      "The accuracy of the kNN for audio was 0.2087912087912088 when the n_neighbors was 195\n",
      "The accuracy of the kNN for sleep was 0.27631578947368424 when the n_neighbors was 38\n",
      "The accuracy of the kNN for movement was 0.2608695652173913 when the n_neighbors was 46\n"
     ]
    }
   ],
   "source": [
    "audio_accuracy, audio_n = get_kNN_prediction_accuracy(weekday_audio_df,\"Weekday\")\n",
    "print(\"The accuracy of the kNN for audio was\",audio_accuracy,\"when the n_neighbors was\",audio_n)\n",
    "\n",
    "sleep_accuracy, sleep_n = get_kNN_prediction_accuracy(weekday_sleep_df,\"Weekday\")\n",
    "print(\"The accuracy of the kNN for sleep was\",sleep_accuracy,\"when the n_neighbors was\",sleep_n)\n",
    "\n",
    "movement_accuracy, movement_n = get_kNN_prediction_accuracy(weekday_movement_df,\"Weekday\")\n",
    "print(\"The accuracy of the kNN for movement was\",movement_accuracy,\"when the n_neighbors was\",movement_n)"
   ]
  },
  {
   "cell_type": "markdown",
   "metadata": {},
   "source": [
    "## Results of kNN\n",
    "* Based on the results we can see that there is a slight corelation between the data and if it is the weekend or not!\n",
    "    * There is an accuracy of 0.72 on predicting if the data is on a weekday or weekend\n",
    "* We can also see that sleep/movement and the day of the week are slightly correlated as well\n"
   ]
  }
 ],
 "metadata": {
  "interpreter": {
   "hash": "729773df16d072ab37a980d81819936d07965ff9a3219d05c4171321c972e259"
  },
  "kernelspec": {
   "display_name": "Python 3.9.7 64-bit ('base': conda)",
   "language": "python",
   "name": "python3"
  },
  "language_info": {
   "codemirror_mode": {
    "name": "ipython",
    "version": 3
   },
   "file_extension": ".py",
   "mimetype": "text/x-python",
   "name": "python",
   "nbconvert_exporter": "python",
   "pygments_lexer": "ipython3",
   "version": "3.9.7"
  },
  "orig_nbformat": 4
 },
 "nbformat": 4,
 "nbformat_minor": 2
}
